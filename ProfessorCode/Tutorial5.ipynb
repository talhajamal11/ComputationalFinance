{
 "cells": [
  {
   "cell_type": "code",
   "execution_count": null,
   "metadata": {},
   "outputs": [],
   "source": [
    "import numpy as np\n",
    "import matplotlib.pyplot as plt"
   ]
  },
  {
   "cell_type": "code",
   "execution_count": null,
   "metadata": {},
   "outputs": [],
   "source": [
    "data = np.array(\"YOUR DATA\")\n",
    "\n",
    "num_mc_trials = \"YOUR DATA\"\n",
    "true_mean = \"YOUR DATA\"\n",
    "true_std = \"YOUR DATA\"\n",
    "\n",
    "print(\"MC Predicted Std\", true_std/np.sqrt(num_mc_trials))\n",
    "print(\"MC True Std\", np.std(data[:, 0]))\n"
   ]
  },
  {
   "cell_type": "code",
   "execution_count": null,
   "metadata": {},
   "outputs": [],
   "source": [
    "plt.hist(data[:, 0])\n",
    "plt.axvline(true_mean, color='k', linestyle='dashed', linewidth=1)\n",
    "plt.title(\"MC Mean\")"
   ]
  },
  {
   "cell_type": "code",
   "execution_count": null,
   "metadata": {},
   "outputs": [],
   "source": [
    "plt.hist(data[:, 1])\n",
    "plt.axvline(true_std, color='k', linestyle='dashed', linewidth=1)\n",
    "plt.title(\"MC STD\")"
   ]
  }
 ],
 "metadata": {
  "kernelspec": {
   "display_name": "Python3 (new_adv)",
   "language": "python",
   "name": "new_adv"
  },
  "language_info": {
   "codemirror_mode": {
    "name": "ipython",
    "version": 3
   },
   "file_extension": ".py",
   "mimetype": "text/x-python",
   "name": "python",
   "nbconvert_exporter": "python",
   "pygments_lexer": "ipython3",
   "version": "3.6.8"
  }
 },
 "nbformat": 4,
 "nbformat_minor": 2
}
